{
 "cells": [
  {
   "cell_type": "markdown",
   "metadata": {},
   "source": [
    "# Introduction to the Environment\n",
    "\n",
    "Mario, an iconic game that needs no introduction, is a game that has been used to show the capabities of reinforcement learning. In this notebook, we will walk through how the environment works and provide a background to the capabities of the specific Mario gym environment."
   ]
  },
  {
   "cell_type": "markdown",
   "metadata": {},
   "source": [
    "### Imports\n",
    "Before we get everything to work, we must import gym_super_mario_bros and then we assign the gym environment at runtime."
   ]
  },
  {
   "cell_type": "code",
   "execution_count": null,
   "metadata": {},
   "outputs": [],
   "source": [
    "from nes_py.wrappers import JoypadSpace\n",
    "import gym_super_mario_bros\n",
    "from gym_super_mario_bros.actions import SIMPLE_MOVEMENT"
   ]
  },
  {
   "cell_type": "markdown",
   "metadata": {},
   "source": [
    "The full NES action space provides 256 discrete actions but the gym_super_mario_bros.actions provides us with a specific set of actions to use (`RIGHT_ONLY`, `SIMPLE_MOVEMENT`, and `COMPLEX_MOVEMENT`) for the `nes_py.wrappers.JoypadSpace` wrapper. The actions inside of RIGHT_ONLY are detailed below and the other actions available are detailed below in the Appendix."
   ]
  },
  {
   "cell_type": "markdown",
   "metadata": {},
   "source": [
    "``` Py\n",
    "\"\"\"Static action sets for binary to discrete action space wrappers.\"\"\"\n",
    "# actions for the simple run right environment\n",
    "RIGHT_ONLY = [\n",
    "    ['NOOP'],\n",
    "    ['right'],\n",
    "    ['right', 'A'],\n",
    "    ['right', 'B'],\n",
    "    ['right', 'A', 'B'],\n",
    "]\n",
    "```"
   ]
  },
  {
   "cell_type": "markdown",
   "metadata": {},
   "source": [
    "In this code, gym_super_mario_bros.make is an alias for gym.make and render can be removed to speed up the code.\n",
    "\n",
    "The code starts with making the Super Mario Bros environment. There are a couple of options for the environment. This includes:\n",
    "- SuperMarioBros-v0\n",
    "- SuperMarioBros-v1\n",
    "- SuperMarioBros-v2\n",
    "- SuperMarioBros-v3\n",
    "- SuperMarioBros2-v0\n",
    "- SuperMarioBros2-v1\n",
    "\n",
    "To be more specifc with the stages we use, we can also edit the stages a bit more.\n",
    "\n",
    "We can use the template: `SuperMarioBros-<world>-<stage>-v<version>`\n",
    "\n",
    "Where:\n",
    "- <world> is a number in {1, 2, 3, 4, 5, 6, 7, 8} indicating the world\n",
    "- <stage> is a number in {1, 2, 3, 4} indicating the stage within a world\n",
    "- <version> is a number in {0, 1, 2, 3} specifying the ROM mode to use\n",
    "    - 0: standard ROM\n",
    "    - 1: downsampled ROM\n",
    "    - 2: pixel ROM\n",
    "    - 3: rectangle ROM\n",
    "    \n",
    "For example, we could use: `SuperMarioBros-4-2-v1`\n",
    "\n",
    "There is also an option for random stage selection. For that, refer to the appendix."
   ]
  },
  {
   "cell_type": "code",
   "execution_count": null,
   "metadata": {},
   "outputs": [],
   "source": [
    "env = gym_super_mario_bros.make('SuperMarioBros-4-2-v1')"
   ]
  },
  {
   "cell_type": "markdown",
   "metadata": {},
   "source": [
    "In the next line of code, we add the environment that we're using and add the set of actions we have at our disposal."
   ]
  },
  {
   "cell_type": "code",
   "execution_count": null,
   "metadata": {},
   "outputs": [],
   "source": [
    "env = JoypadSpace(env, SIMPLE_MOVEMENT)"
   ]
  },
  {
   "cell_type": "markdown",
   "metadata": {},
   "source": [
    "We also initialize the variable `done` as `true`."
   ]
  },
  {
   "cell_type": "code",
   "execution_count": null,
   "metadata": {},
   "outputs": [],
   "source": [
    "done = True"
   ]
  },
  {
   "cell_type": "markdown",
   "metadata": {},
   "source": [
    "### Reward Function\n",
    "The reward is determined by how far right the agent moves as fast as possible without dying. There are three separate variables important for calculating reward:\n",
    "1. v: The difference in agent's x values between states\n",
    "    - in this case, this is the instantaneous velocity for the given step\n",
    "    - v = x1 - x0\n",
    "        - x0 is the x position before the step\n",
    "        - x1 is the x position after the step\n",
    "    - moving right: v > 0 \n",
    "    - mmoving left: v < 0\n",
    "    - not moving: v = 0\n",
    "2. c: the difference in the game clock between frames\n",
    "    - the penalty prevents the agent from standing still\n",
    "    - c = c0 - c1\n",
    "        - c0 is the clock reading before the step\n",
    "        - c1 is the clock reading after the step\n",
    "    - no clock tick: c = 0\n",
    "    - clock tick: c < 0\n",
    "3. d: a death penalty that penalizes teh agent for dying in a state\n",
    "    - this penalty encourages the agent to avoid death\n",
    "    - alive: d = 0\n",
    "    - dead: d = -15\n",
    "\n",
    "The reward is in the range (-15, 15) and the formula for reward is r = v + c + d\n",
    "\n",
    "\n",
    "\n",
    "### `info` dictionary\n",
    "| Key        | Type   | Description\n",
    "|:-----------|:-------|:------------------------------------------------------|\n",
    "| `coins   ` | `int`  | The number of collected coins\n",
    "| `flag_get` | `bool` | True if Mario reached a flag or ax\n",
    "| `life`     | `int`  | The number of lives left, i.e., _{3, 2, 1}_\n",
    "| `score`    | `int`  | The cumulative in-game score\n",
    "| `stage`    | `int`  | The current stage, i.e., _{1, ..., 4}_\n",
    "| `status`   | `str`  | Mario's status, i.e., _{'small', 'tall', 'fireball'}_\n",
    "| `time`     | `int`  | The time left on the clock\n",
    "| `world`    | `int`  | The current world, i.e., _{1, ..., 8}_\n",
    "| `x_pos`    | `int`  | Mario's _x_ position in the stage (from the left)\n",
    "| `y_pos`    | `int`  | Mario's _y_ position in the stage (from the bottom)"
   ]
  },
  {
   "cell_type": "code",
   "execution_count": null,
   "metadata": {},
   "outputs": [],
   "source": [
    "for step in range(5000):\n",
    "    if done:\n",
    "        state = env.reset()\n",
    "    state, reward, done, info = env.step(env.action_space.sample())\n",
    "    env.render()\n",
    "\n",
    "env.close()"
   ]
  },
  {
   "cell_type": "markdown",
   "metadata": {},
   "source": [
    "All the code together would run as such:"
   ]
  },
  {
   "cell_type": "code",
   "execution_count": null,
   "metadata": {},
   "outputs": [],
   "source": [
    "from nes_py.wrappers import JoypadSpace\n",
    "import gym_super_mario_bros\n",
    "from gym_super_mario_bros.actions import SIMPLE_MOVEMENT\n",
    "env = gym_super_mario_bros.make('SuperMarioBros-v0')\n",
    "env = JoypadSpace(env, SIMPLE_MOVEMENT)\n",
    "\n",
    "done = True\n",
    "for step in range(5000):\n",
    "    if done:\n",
    "        state = env.reset()\n",
    "    state, reward, done, info = env.step(env.action_space.sample())\n",
    "    env.render()\n",
    "\n",
    "env.close()"
   ]
  },
  {
   "cell_type": "markdown",
   "metadata": {},
   "source": [
    "## Appendix"
   ]
  },
  {
   "cell_type": "markdown",
   "metadata": {},
   "source": [
    "### Action Spaces Available\n",
    "These are the sets of actions available for the environment to use. For this, we can see different sets of actions the environment is able to use. Provided from [https://github.com/Kautenja/gym-super-mario-bros/blob/master/gym_super_mario_bros/actions.py].\n",
    "\n",
    "``` Py\n",
    "\"\"\"Static action sets for binary to discrete action space wrappers.\"\"\"\n",
    "\n",
    "\n",
    "# actions for the simple run right environment\n",
    "RIGHT_ONLY = [\n",
    "    ['NOOP'],\n",
    "    ['right'],\n",
    "    ['right', 'A'],\n",
    "    ['right', 'B'],\n",
    "    ['right', 'A', 'B'],\n",
    "]\n",
    "\n",
    "# actions for very simple movement\n",
    "SIMPLE_MOVEMENT = [\n",
    "    ['NOOP'],\n",
    "    ['right'],\n",
    "    ['right', 'A'],\n",
    "    ['right', 'B'],\n",
    "    ['right', 'A', 'B'],\n",
    "    ['A'],\n",
    "    ['left'],\n",
    "]\n",
    "\n",
    "\n",
    "# actions for more complex movement\n",
    "COMPLEX_MOVEMENT = [\n",
    "    ['NOOP'],\n",
    "    ['right'],\n",
    "    ['right', 'A'],\n",
    "    ['right', 'B'],\n",
    "    ['right', 'A', 'B'],\n",
    "    ['A'],\n",
    "    ['left'],\n",
    "    ['left', 'A'],\n",
    "    ['left', 'B'],\n",
    "    ['left', 'A', 'B'],\n",
    "    ['down'],\n",
    "    ['up'],\n",
    "]\n",
    "```"
   ]
  },
  {
   "cell_type": "markdown",
   "metadata": {},
   "source": [
    "### Random Stages\n",
    "\n",
    "Random stage selection environment allows us to select random stages and provide a single attempt to clear it. The death will lead to a reset and the environment will randomly select a new stage. To use this, we append `RandomStages` to the `SuperMarioBros` id. \n",
    "\n",
    "``` py\n",
    "gym.make('SuperMarioBrosRandomStages-v0', stages=['1-4', '2-4', '3-4', '4-4'])\n",
    "```\n",
    "\n",
    "We could also seed random stage selection using the `seed` method of the env (`env.seed(222)`) before calls to reset. We could also put the seed into the reset (`reset(seed=222)`)."
   ]
  }
 ],
 "metadata": {
  "kernelspec": {
   "display_name": "Python 3.9.0 64-bit",
   "language": "python",
   "name": "python3"
  },
  "language_info": {
   "codemirror_mode": {
    "name": "ipython",
    "version": 3
   },
   "file_extension": ".py",
   "mimetype": "text/x-python",
   "name": "python",
   "nbconvert_exporter": "python",
   "pygments_lexer": "ipython3",
   "version": "3.9.0"
  },
  "orig_nbformat": 4,
  "vscode": {
   "interpreter": {
    "hash": "81794d4967e6c3204c66dcd87b604927b115b27c00565d3d43f05ba2f3a2cb0d"
   }
  }
 },
 "nbformat": 4,
 "nbformat_minor": 2
}
